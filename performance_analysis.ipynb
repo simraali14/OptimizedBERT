{
 "cells": [
  {
   "cell_type": "code",
   "execution_count": null,
   "metadata": {
    "colab": {
     "base_uri": "https://localhost:8080/"
    },
    "id": "YwY9DbMGei9o",
    "outputId": "db716fbc-5c7d-4194-f3e2-3d5d24255869"
   },
   "outputs": [],
   "source": [
    "import pickle\n",
    "import torch\n",
    "import sys\n",
    "import os\n",
    "from google.colab import drive\n",
    "\n",
    "drive.mount('/content/drive')\n",
    "os.chdir('/content/drive/MyDrive/OptimizedBERT')\n",
    "original_sys_path = sys.path.copy()\n",
    "sys.path.append('/content/drive/MyDrive/OptimizedBERT')\n",
    "\n",
    "from sentence_evaluator import ModelSentenceEvaluator\n",
    "from dataset_evaluator import DatasetEvaluator\n",
    "\n",
    "sys.path.append('/content/drive/MyDrive/OptimizedBERT')"
   ]
  },
  {
   "cell_type": "code",
   "execution_count": null,
   "metadata": {
    "colab": {
     "base_uri": "https://localhost:8080/"
    },
    "id": "Vka7U5EqzfcB",
    "outputId": "81006713-0af5-4767-c1c9-7ff5bdc84614"
   },
   "outputs": [],
   "source": [
    "file_path = \"training_data.txt\"\n",
    "training_data = []\n",
    "with open(file_path, 'r') as file:\n",
    "    for line in file:\n",
    "        training_data.append(line.strip())\n",
    "\n",
    "training_data = list(set(training_data))\n",
    "print(\"Training Dataset Length: \",len(training_data))"
   ]
  },
  {
   "cell_type": "code",
   "execution_count": null,
   "metadata": {
    "id": "eldtPW7IfHg2"
   },
   "outputs": [],
   "source": [
    "# Load relevant models\n",
    "\n",
    "def load_model(model_path):\n",
    "    with open(model_path, 'rb') as f:\n",
    "        return pickle.load(f)\n",
    "\n",
    "folder = \"models/\"\n",
    "ground_truth = (\"original\", load_model(folder + \"original_model.pkl\"))\n",
    "models = {\n",
    "    \"half_precision\": load_model(folder + \"half_precision_model.pkl\"),\n",
    "    \"6bit\": load_model(folder + \"6bit_model.pkl\"),\n",
    "    \"8bit\": load_model(folder + \"8bit_model.pkl\"),\n",
    "    \"16bit\": load_model(folder + \"16bit_model.pkl\"),\n",
    "    \"gelu_approx\": load_model(folder + \"gelu_approx_model.pkl\"),\n",
    "    \"layernorm_approx\": load_model(folder + \"layernorm_approx_model.pkl\"),\n",
    "    \"softmax_approx\": load_model(folder + \"softmax_approx_model.pkl\"),\n",
    "    \"all_approx\": load_model(folder + \"all_approx_model.pkl\")\n",
    "}"
   ]
  },
  {
   "cell_type": "code",
   "execution_count": null,
   "metadata": {
    "id": "5lG5g3Vh8UV0"
   },
   "outputs": [],
   "source": [
    "# Analytics Setup\n",
    "k=1000\n",
    "desired_percentage=95\n",
    "token_step=200\n",
    "max_tokens=10000"
   ]
  },
  {
   "cell_type": "code",
   "execution_count": null,
   "metadata": {
    "colab": {
     "base_uri": "https://localhost:8080/",
     "height": 1000
    },
    "id": "AuBzNAGF1wZd",
    "outputId": "3408f350-2998-4b30-8c39-ea3c3973b8c6"
   },
   "outputs": [],
   "source": [
    "# Sentence Level Performance\n",
    "\n",
    "evaluator = ModelSentenceEvaluator(models, ground_truth)\n",
    "sentence = \"The <mask> of the situation remained elusive despite exhaustive investigation.\"\n",
    "evaluator.all_model_inference(sentence)\n",
    "evaluator.plot_all_metrics(k, desired_percentage, token_step, max_tokens)"
   ]
  },
  {
   "cell_type": "code",
   "execution_count": null,
   "metadata": {
    "colab": {
     "base_uri": "https://localhost:8080/",
     "height": 1000
    },
    "id": "V4JXOzLT-hf5",
    "outputId": "0259ce24-75bc-4f0c-d476-1023bf9094ed"
   },
   "outputs": [],
   "source": [
    "# Dataset Level Performance\n",
    "\n",
    "dataset_evaluator = DatasetEvaluator(models, ground_truth, training_data)\n",
    "dataset_evaluator.evaluate(k,desired_percentage)\n",
    "avg_metrics = dataset_evaluator.average_metrics()\n",
    "dataset_evaluator.plot_metrics()"
   ]
  },
  {
   "cell_type": "code",
   "execution_count": null,
   "metadata": {
    "id": "EKlNG9cxBM2z"
   },
   "outputs": [],
   "source": []
  }
 ],
 "metadata": {
  "accelerator": "GPU",
  "colab": {
   "gpuType": "T4",
   "provenance": []
  },
  "kernelspec": {
   "display_name": "Python 3 (ipykernel)",
   "language": "python",
   "name": "python3"
  },
  "language_info": {
   "codemirror_mode": {
    "name": "ipython",
    "version": 3
   },
   "file_extension": ".py",
   "mimetype": "text/x-python",
   "name": "python",
   "nbconvert_exporter": "python",
   "pygments_lexer": "ipython3",
   "version": "3.8.1"
  }
 },
 "nbformat": 4,
 "nbformat_minor": 1
}
